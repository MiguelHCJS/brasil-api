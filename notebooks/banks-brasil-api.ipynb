{
 "cells": [
  {
   "cell_type": "markdown",
   "metadata": {},
   "source": [
    "Importações"
   ]
  },
  {
   "cell_type": "code",
   "execution_count": 43,
   "metadata": {},
   "outputs": [],
   "source": [
    "import requests\n",
    "import pandas as pd\n",
    "import json"
   ]
  },
  {
   "cell_type": "code",
   "execution_count": 3,
   "metadata": {},
   "outputs": [],
   "source": [
    "get_banks = 'https://brasilapi.com.br/api/banks/v1'\n",
    "\n",
    "response = requests.get(get_banks)"
   ]
  },
  {
   "cell_type": "markdown",
   "metadata": {},
   "source": [
    "## Informação da requisição\n",
    "\n",
    "- Status de requisição\n",
    "- Tipo de resposta"
   ]
  },
  {
   "cell_type": "code",
   "execution_count": 5,
   "metadata": {},
   "outputs": [
    {
     "data": {
      "text/plain": [
       "200"
      ]
     },
     "execution_count": 5,
     "metadata": {},
     "output_type": "execute_result"
    }
   ],
   "source": [
    "# Status da requisição\n",
    "response.status_code"
   ]
  },
  {
   "cell_type": "code",
   "execution_count": 28,
   "metadata": {},
   "outputs": [
    {
     "data": {
      "text/plain": [
       "'application/json; charset=utf-8'"
      ]
     },
     "execution_count": 28,
     "metadata": {},
     "output_type": "execute_result"
    }
   ],
   "source": [
    "# Informação de resposta\n",
    "headers = response.headers\n",
    "headers['Content-Type']"
   ]
  },
  {
   "cell_type": "markdown",
   "metadata": {},
   "source": [
    "## Formato JSON\n",
    "\n",
    "Salvando informações dos bancos em formato JSON"
   ]
  },
  {
   "cell_type": "code",
   "execution_count": 44,
   "metadata": {},
   "outputs": [],
   "source": [
    "bancos = response.json()"
   ]
  },
  {
   "cell_type": "code",
   "execution_count": 45,
   "metadata": {},
   "outputs": [],
   "source": [
    "with open(\"../data/bancos.json\", \"w\") as arquivo:\n",
    "    json.dump(bancos, arquivo)"
   ]
  },
  {
   "cell_type": "markdown",
   "metadata": {},
   "source": [
    "## Dataframe do Pandas\n",
    "\n",
    "Salvando em formato Dataframe do pandas, melhor tratamento de dados"
   ]
  },
  {
   "cell_type": "code",
   "execution_count": 46,
   "metadata": {},
   "outputs": [],
   "source": [
    "df = pd.DataFrame(bancos)"
   ]
  },
  {
   "cell_type": "code",
   "execution_count": 47,
   "metadata": {},
   "outputs": [
    {
     "name": "stdout",
     "output_type": "stream",
     "text": [
      "<class 'pandas.core.frame.DataFrame'>\n",
      "RangeIndex: 359 entries, 0 to 358\n",
      "Data columns (total 4 columns):\n",
      " #   Column    Non-Null Count  Dtype  \n",
      "---  ------    --------------  -----  \n",
      " 0   ispb      359 non-null    object \n",
      " 1   name      357 non-null    object \n",
      " 2   code      348 non-null    float64\n",
      " 3   fullName  357 non-null    object \n",
      "dtypes: float64(1), object(3)\n",
      "memory usage: 11.3+ KB\n"
     ]
    }
   ],
   "source": [
    "df.info()"
   ]
  },
  {
   "cell_type": "code",
   "execution_count": 50,
   "metadata": {},
   "outputs": [
    {
     "data": {
      "text/html": [
       "<div>\n",
       "<style scoped>\n",
       "    .dataframe tbody tr th:only-of-type {\n",
       "        vertical-align: middle;\n",
       "    }\n",
       "\n",
       "    .dataframe tbody tr th {\n",
       "        vertical-align: top;\n",
       "    }\n",
       "\n",
       "    .dataframe thead th {\n",
       "        text-align: right;\n",
       "    }\n",
       "</style>\n",
       "<table border=\"1\" class=\"dataframe\">\n",
       "  <thead>\n",
       "    <tr style=\"text-align: right;\">\n",
       "      <th></th>\n",
       "      <th>ispb</th>\n",
       "      <th>name</th>\n",
       "      <th>code</th>\n",
       "      <th>fullName</th>\n",
       "    </tr>\n",
       "  </thead>\n",
       "  <tbody>\n",
       "    <tr>\n",
       "      <th>2</th>\n",
       "      <td>00038121</td>\n",
       "      <td>Selic</td>\n",
       "      <td>NaN</td>\n",
       "      <td>Banco Central do Brasil - Selic</td>\n",
       "    </tr>\n",
       "    <tr>\n",
       "      <th>3</th>\n",
       "      <td>00038166</td>\n",
       "      <td>Bacen</td>\n",
       "      <td>NaN</td>\n",
       "      <td>Banco Central do Brasil</td>\n",
       "    </tr>\n",
       "    <tr>\n",
       "      <th>10</th>\n",
       "      <td>00394460</td>\n",
       "      <td>STN</td>\n",
       "      <td>NaN</td>\n",
       "      <td>Secretaria do Tesouro Nacional - STN</td>\n",
       "    </tr>\n",
       "    <tr>\n",
       "      <th>40</th>\n",
       "      <td>02992335</td>\n",
       "      <td>CIP SA Siloc</td>\n",
       "      <td>NaN</td>\n",
       "      <td>CIP S.A</td>\n",
       "    </tr>\n",
       "    <tr>\n",
       "      <th>58</th>\n",
       "      <td>04391007</td>\n",
       "      <td>CAMARA INTERBANCARIA DE PAGAMENTOS - CIP</td>\n",
       "      <td>NaN</td>\n",
       "      <td>CIP S.A</td>\n",
       "    </tr>\n",
       "    <tr>\n",
       "      <th>184</th>\n",
       "      <td>28719664</td>\n",
       "      <td>Balcão B3</td>\n",
       "      <td>NaN</td>\n",
       "      <td>Sistema do Balcão B3</td>\n",
       "    </tr>\n",
       "    <tr>\n",
       "      <th>185</th>\n",
       "      <td>29011780</td>\n",
       "      <td>CIP SA C3</td>\n",
       "      <td>NaN</td>\n",
       "      <td>CIP S.A</td>\n",
       "    </tr>\n",
       "    <tr>\n",
       "      <th>285</th>\n",
       "      <td>54641030</td>\n",
       "      <td>Câmara B3</td>\n",
       "      <td>NaN</td>\n",
       "      <td>Câmara B3</td>\n",
       "    </tr>\n",
       "    <tr>\n",
       "      <th>304</th>\n",
       "      <td>60934221</td>\n",
       "      <td>Câmbio B3</td>\n",
       "      <td>NaN</td>\n",
       "      <td>Câmara de Câmbio B3</td>\n",
       "    </tr>\n",
       "    <tr>\n",
       "      <th>357</th>\n",
       "      <td></td>\n",
       "      <td>NaN</td>\n",
       "      <td>NaN</td>\n",
       "      <td>NaN</td>\n",
       "    </tr>\n",
       "    <tr>\n",
       "      <th>358</th>\n",
       "      <td></td>\n",
       "      <td>NaN</td>\n",
       "      <td>NaN</td>\n",
       "      <td>NaN</td>\n",
       "    </tr>\n",
       "  </tbody>\n",
       "</table>\n",
       "</div>"
      ],
      "text/plain": [
       "         ispb                                      name  code  \\\n",
       "2    00038121                                     Selic   NaN   \n",
       "3    00038166                                     Bacen   NaN   \n",
       "10   00394460                                       STN   NaN   \n",
       "40   02992335                              CIP SA Siloc   NaN   \n",
       "58   04391007  CAMARA INTERBANCARIA DE PAGAMENTOS - CIP   NaN   \n",
       "184  28719664                                 Balcão B3   NaN   \n",
       "185  29011780                                 CIP SA C3   NaN   \n",
       "285  54641030                                 Câmara B3   NaN   \n",
       "304  60934221                                 Câmbio B3   NaN   \n",
       "357                                                 NaN   NaN   \n",
       "358                                                 NaN   NaN   \n",
       "\n",
       "                                 fullName  \n",
       "2         Banco Central do Brasil - Selic  \n",
       "3                 Banco Central do Brasil  \n",
       "10   Secretaria do Tesouro Nacional - STN  \n",
       "40                                CIP S.A  \n",
       "58                                CIP S.A  \n",
       "184                  Sistema do Balcão B3  \n",
       "185                               CIP S.A  \n",
       "285                             Câmara B3  \n",
       "304                   Câmara de Câmbio B3  \n",
       "357                                   NaN  \n",
       "358                                   NaN  "
      ]
     },
     "execution_count": 50,
     "metadata": {},
     "output_type": "execute_result"
    }
   ],
   "source": [
    "df[df.code.isnull()]"
   ]
  },
  {
   "cell_type": "code",
   "execution_count": 52,
   "metadata": {},
   "outputs": [],
   "source": [
    "df_bancos = df.dropna(subset=['code'])"
   ]
  },
  {
   "cell_type": "code",
   "execution_count": 62,
   "metadata": {},
   "outputs": [
    {
     "data": {
      "text/plain": [
       "0        1\n",
       "1       70\n",
       "4      539\n",
       "5      430\n",
       "6      272\n",
       "      ... \n",
       "352    117\n",
       "353    654\n",
       "354    371\n",
       "355    212\n",
       "356    289\n",
       "Name: code, Length: 348, dtype: int64"
      ]
     },
     "execution_count": 62,
     "metadata": {},
     "output_type": "execute_result"
    }
   ],
   "source": [
    "df_bancos.loc[:, 'code'].astype(int)"
   ]
  },
  {
   "cell_type": "code",
   "execution_count": 70,
   "metadata": {},
   "outputs": [],
   "source": [
    "# Salvando em CSV\n",
    "df_bancos.to_csv('../data/bancos.csv')"
   ]
  },
  {
   "cell_type": "markdown",
   "metadata": {},
   "source": [
    "## Acessando outro Endpoint\n",
    "\n",
    "Individualmente um banco de código específico"
   ]
  },
  {
   "cell_type": "code",
   "execution_count": 108,
   "metadata": {},
   "outputs": [],
   "source": [
    "code_bank_itau = \"341\"\n",
    "\n",
    "get_bank_itau = \"\".join([get_banks, \"/\", code_bank_itau])\n",
    "\n",
    "response_bank_itau = requests.get(get_bank_itau)"
   ]
  },
  {
   "cell_type": "code",
   "execution_count": 110,
   "metadata": {},
   "outputs": [
    {
     "data": {
      "text/plain": [
       "200"
      ]
     },
     "execution_count": 110,
     "metadata": {},
     "output_type": "execute_result"
    }
   ],
   "source": [
    "response_bank_itau.status_code"
   ]
  },
  {
   "cell_type": "code",
   "execution_count": 111,
   "metadata": {},
   "outputs": [
    {
     "data": {
      "text/plain": [
       "{'ispb': '60701190',\n",
       " 'name': 'ITAÚ UNIBANCO S.A.',\n",
       " 'code': 341,\n",
       " 'fullName': 'ITAÚ UNIBANCO S.A.'}"
      ]
     },
     "execution_count": 111,
     "metadata": {},
     "output_type": "execute_result"
    }
   ],
   "source": [
    "response_bank_itau.json()"
   ]
  },
  {
   "cell_type": "code",
   "execution_count": 116,
   "metadata": {},
   "outputs": [],
   "source": [
    "code_bank_bradesco = \"237\"\n",
    "\n",
    "get_bank_bradesco = \"\".join([get_banks, \"/\", code_bank_bradesco])\n",
    "\n",
    "responde_bank_bradesco = requests.get(get_bank_bradesco)"
   ]
  },
  {
   "cell_type": "code",
   "execution_count": 117,
   "metadata": {},
   "outputs": [
    {
     "data": {
      "text/plain": [
       "200"
      ]
     },
     "execution_count": 117,
     "metadata": {},
     "output_type": "execute_result"
    }
   ],
   "source": [
    "responde_bank_bradesco.status_code"
   ]
  },
  {
   "cell_type": "code",
   "execution_count": 118,
   "metadata": {},
   "outputs": [
    {
     "data": {
      "text/plain": [
       "{'ispb': '60746948',\n",
       " 'name': 'BCO BRADESCO S.A.',\n",
       " 'code': 237,\n",
       " 'fullName': 'Banco Bradesco S.A.'}"
      ]
     },
     "execution_count": 118,
     "metadata": {},
     "output_type": "execute_result"
    }
   ],
   "source": [
    "responde_bank_bradesco.json()"
   ]
  }
 ],
 "metadata": {
  "kernelspec": {
   "display_name": "cep-brasil",
   "language": "python",
   "name": "cep-brasil"
  },
  "language_info": {
   "codemirror_mode": {
    "name": "ipython",
    "version": 3
   },
   "file_extension": ".py",
   "mimetype": "text/x-python",
   "name": "python",
   "nbconvert_exporter": "python",
   "pygments_lexer": "ipython3",
   "version": "3.11.5"
  }
 },
 "nbformat": 4,
 "nbformat_minor": 2
}
